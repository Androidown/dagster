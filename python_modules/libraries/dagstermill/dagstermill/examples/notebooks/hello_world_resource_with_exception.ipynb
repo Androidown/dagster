{
 "cells": [
  {
   "cell_type": "code",
   "execution_count": 1,
   "metadata": {},
   "outputs": [],
   "source": [
    "import dagstermill"
   ]
  },
  {
   "cell_type": "code",
   "execution_count": 2,
   "metadata": {
    "tags": [
     "parameters"
    ]
   },
   "outputs": [
    {
     "name": "stderr",
     "output_type": "stream",
     "text": [
      "2020-03-06 15:06:21 - dagster - DEBUG - ephemeral_dagstermill_pipeline - f7682c4c-45e9-43da-9008-3becbd44af04 - ENGINE_EVENT - Starting initialization of resources [list].\n",
      " event_specific_data = {\"error\": null, \"marker_end\": null, \"marker_start\": \"resources\", \"metadata_entries\": []}\n",
      "            step_key = \"this_solid.compute\"\n",
      "2020-03-06 15:06:21 - dagster - DEBUG - ephemeral_dagstermill_pipeline - f7682c4c-45e9-43da-9008-3becbd44af04 - ENGINE_EVENT - Finished initialization of resources [list].\n",
      " event_specific_data = {\"error\": null, \"marker_end\": \"resources\", \"marker_start\": null, \"metadata_entries\": [[\"list\", \"Initialized in 0.01ms\", [\"builtins\", \"list\"]]]}\n",
      "            step_key = \"this_solid.compute\"\n"
     ]
    }
   ],
   "source": [
    "from dagster import ResourceDefinition\n",
    "\n",
    "context = dagstermill.get_context(resource_defs={\"list\": ResourceDefinition(lambda _: [])})"
   ]
  },
  {
   "cell_type": "code",
   "execution_count": 3,
   "metadata": {},
   "outputs": [
    {
     "name": "stderr",
     "output_type": "stream",
     "text": [
      "2020-03-06 15:06:23 - dagster - INFO - system - f7682c4c-45e9-43da-9008-3becbd44af04 - Test logging information\n"
     ]
    }
   ],
   "source": [
    "context.log.info(\"Test logging information\")"
   ]
  },
  {
   "cell_type": "code",
   "execution_count": 4,
   "metadata": {},
   "outputs": [],
   "source": [
    "context.resources.list.append(\"Hello, notebook!\")"
   ]
  },
  {
   "cell_type": "code",
   "execution_count": 5,
   "metadata": {},
   "outputs": [
    {
     "ename": "Exception",
     "evalue": "",
     "output_type": "error",
     "traceback": [
      "\u001b[0;31m---------------------------------------------------------------------------\u001b[0m",
      "\u001b[0;31mException\u001b[0m                                 Traceback (most recent call last)",
      "\u001b[0;32m<ipython-input-5-32c500991385>\u001b[0m in \u001b[0;36m<module>\u001b[0;34m\u001b[0m\n\u001b[0;32m----> 1\u001b[0;31m \u001b[0;32mraise\u001b[0m \u001b[0mException\u001b[0m\u001b[0;34m(\u001b[0m\u001b[0;34m)\u001b[0m\u001b[0;34m\u001b[0m\u001b[0;34m\u001b[0m\u001b[0m\n\u001b[0m",
      "\u001b[0;31mException\u001b[0m: "
     ]
    }
   ],
   "source": [
    "raise Exception()"
   ]
  }
 ],
 "metadata": {
  "celltoolbar": "Tags",
  "kernelspec": {
   "display_name": "dagster",
   "language": "python",
   "name": "dagster"
  },
  "language_info": {
   "codemirror_mode": {
    "name": "ipython",
    "version": 3
   },
   "file_extension": ".py",
   "mimetype": "text/x-python",
   "name": "python",
   "nbconvert_exporter": "python",
   "pygments_lexer": "ipython3",
   "version": "3.7.2"
  }
 },
 "nbformat": 4,
 "nbformat_minor": 2
}
