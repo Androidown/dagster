{
 "cells": [
  {
   "cell_type": "code",
   "execution_count": 1,
   "metadata": {},
   "outputs": [
    {
     "output_type": "error",
     "ename": "Error",
     "evalue": "KeyboardInterrupt",
     "traceback": [
      "Error: KeyboardInterrupt",
      "at b.parseConnectInfo (/Users/alangenfeld/.vscode/extensions/ms-toolsai.jupyter-2021.5.702919634/out/client/extension.js:49:478075)",
      "at b.connectToLocal (/Users/alangenfeld/.vscode/extensions/ms-toolsai.jupyter-2021.5.702919634/out/client/extension.js:49:478678)",
      "at runMicrotasks (<anonymous>)",
      "at processTicksAndRejections (internal/process/task_queues.js:97:5)",
      "at async b.connect (/Users/alangenfeld/.vscode/extensions/ms-toolsai.jupyter-2021.5.702919634/out/client/extension.js:49:476555)",
      "at async b.startDebugSession (/Users/alangenfeld/.vscode/extensions/ms-toolsai.jupyter-2021.5.702919634/out/client/extension.js:49:475702)",
      "at async T.submitCode (/Users/alangenfeld/.vscode/extensions/ms-toolsai.jupyter-2021.5.702919634/out/client/extension.js:32:663253)",
      "at async T.handleRunByLine (/Users/alangenfeld/.vscode/extensions/ms-toolsai.jupyter-2021.5.702919634/out/client/extension.js:32:651199)"
     ]
    }
   ],
   "source": [
    "print(\"hello\")"
   ]
  }
 ],
 "metadata": {
  "celltoolbar": "Tags",
  "kernelspec": {
   "display_name": "dagster",
   "language": "python",
   "name": "dagster"
  },
  "language_info": {
   "codemirror_mode": {
    "name": "ipython",
    "version": 3
   },
   "file_extension": ".py",
   "mimetype": "text/x-python",
   "name": "python",
   "nbconvert_exporter": "python",
   "pygments_lexer": "ipython3",
   "version": "3.8.3"
  }
 },
 "nbformat": 4,
 "nbformat_minor": 2
}