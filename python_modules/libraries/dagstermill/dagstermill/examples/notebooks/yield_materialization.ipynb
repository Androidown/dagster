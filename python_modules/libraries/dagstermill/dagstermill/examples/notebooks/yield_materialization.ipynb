{
 "cells": [
  {
   "cell_type": "code",
   "execution_count": null,
   "metadata": {},
   "outputs": [],
   "source": [
    "import dagstermill\n",
    "from dagster import AssetMaterialization\n",
    "\n",
    "dagstermill.yield_event(\n",
    "    AssetMaterialization(\n",
    "        asset_key=\"notebook_yielded_asset\",\n",
    "    )\n",
    ")"
   ]
  }
 ],
 "metadata": {
  "kernelspec": {
   "display_name": "Python 3.9.10 64-bit ('dagster-3.9.10')",
   "language": "python",
   "name": "python3"
  },
  "language_info": {
   "name": "python",
   "version": "3.9.10"
  },
  "orig_nbformat": 4,
  "vscode": {
   "interpreter": {
    "hash": "e5fba353c56c7ba0bcc92cb4e3a58f4a2d45616f71cf3092e3e47a9c9267b682"
   }
  }
 },
 "nbformat": 4,
 "nbformat_minor": 2
}
